version https://git-lfs.github.com/spec/v1
oid sha256:d549475ecf20246cacfb708957ea7682fe3fd0b376f150cd4a6621b5b0d6cb58
size 432785
