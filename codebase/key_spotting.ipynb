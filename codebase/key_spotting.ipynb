{
 "cells": [
  {
   "cell_type": "code",
   "execution_count": 1,
   "metadata": {},
   "outputs": [
    {
     "name": "stderr",
     "output_type": "stream",
     "text": [
      "/Users/nischalshrestha/anaconda3/envs/capstone-venv/lib/python3.10/site-packages/torchaudio/compliance/kaldi.py:22: UserWarning: Failed to initialize NumPy: No module named 'numpy' (Triggered internally at /Users/runner/work/pytorch/pytorch/pytorch/torch/csrc/utils/tensor_numpy.cpp:77.)\n",
      "  EPSILON = torch.tensor(torch.finfo(torch.float).eps)\n"
     ]
    }
   ],
   "source": [
    "import torch\n",
    "import torchaudio\n",
    "\n",
    "# Download the SPEECHCOMMANDS dataset\n",
    "speech_commands = torchaudio.datasets.SPEECHCOMMANDS(\"../dat\", download=True)"
   ]
  },
  {
   "cell_type": "code",
   "execution_count": 2,
   "metadata": {},
   "outputs": [
    {
     "name": "stdout",
     "output_type": "stream",
     "text": [
      "(tensor([[-0.0658, -0.0709, -0.0753,  ..., -0.0700, -0.0731, -0.0704]]), 16000, 'backward', '0165e0e8', 0)\n"
     ]
    }
   ],
   "source": [
    "print(speech_commands[0])"
   ]
  },
  {
   "cell_type": "code",
   "execution_count": 3,
   "metadata": {},
   "outputs": [
    {
     "ename": "ValueError",
     "evalue": "too many values to unpack (expected 3)",
     "output_type": "error",
     "traceback": [
      "\u001b[0;31m---------------------------------------------------------------------------\u001b[0m",
      "\u001b[0;31mValueError\u001b[0m                                Traceback (most recent call last)",
      "Cell \u001b[0;32mIn[3], line 2\u001b[0m\n\u001b[1;32m      1\u001b[0m \u001b[39m# Load a sample from the dataset\u001b[39;00m\n\u001b[0;32m----> 2\u001b[0m waveform, sample_rate, label \u001b[39m=\u001b[39m speech_commands[\u001b[39m0\u001b[39m]\n\u001b[1;32m      4\u001b[0m \u001b[39m# Print the shape of the waveform and the label\u001b[39;00m\n\u001b[1;32m      5\u001b[0m \u001b[39mprint\u001b[39m(\u001b[39m\"\u001b[39m\u001b[39mWaveform shape:\u001b[39m\u001b[39m\"\u001b[39m, waveform\u001b[39m.\u001b[39msize())\n",
      "\u001b[0;31mValueError\u001b[0m: too many values to unpack (expected 3)"
     ]
    }
   ],
   "source": [
    "# Load a sample from the dataset\n",
    "waveform, sample_rate, label = speech_commands[0]\n",
    "\n",
    "# Print the shape of the waveform and the label\n",
    "print(\"Waveform shape:\", waveform.size())\n",
    "print(\"Sample rate:\", sample_rate)\n",
    "print(\"Label:\", label)"
   ]
  },
  {
   "cell_type": "code",
   "execution_count": null,
   "metadata": {},
   "outputs": [],
   "source": [
    "train_dataset, val_dataset, test_dataset = torchaudio.datasets.SPEECHCOMMANDS.splits(\n",
    "    \"../dat\", train='training_list.txt', validation='validation_list.txt', test='testing_list.txt'\n",
    ")\n"
   ]
  }
 ],
 "metadata": {
  "kernelspec": {
   "display_name": "capstone-venv",
   "language": "python",
   "name": "python3"
  },
  "language_info": {
   "codemirror_mode": {
    "name": "ipython",
    "version": 3
   },
   "file_extension": ".py",
   "mimetype": "text/x-python",
   "name": "python",
   "nbconvert_exporter": "python",
   "pygments_lexer": "ipython3",
   "version": "3.10.9"
  },
  "orig_nbformat": 4,
  "vscode": {
   "interpreter": {
    "hash": "3579a0076c8b12abcdb52b762119528f8d8e2b7bbff719f15cf78985e1d9a3d1"
   }
  }
 },
 "nbformat": 4,
 "nbformat_minor": 2
}
